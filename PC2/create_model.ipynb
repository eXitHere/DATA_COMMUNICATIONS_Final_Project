{
 "cells": [
  {
   "cell_type": "code",
   "execution_count": 1,
   "metadata": {},
   "outputs": [
    {
     "name": "stdout",
     "output_type": "stream",
     "text": [
      "numpy version : 1.18.5\n",
      "tensorflow version : 2.3.1\n"
     ]
    }
   ],
   "source": [
    "from tensorflow.keras.preprocessing.image import ImageDataGenerator\n",
    "from tensorflow.keras.preprocessing import image\n",
    "from tensorflow.keras.optimizers import RMSprop\n",
    "from matplotlib import pyplot as plt\n",
    "import tensorflow as tf\n",
    "import joblib as jl\n",
    "import numpy as np\n",
    "import cv2\n",
    "import os\n",
    "\n",
    "print(f'numpy version : {np.__version__}')\n",
    "print(f'tensorflow version : {tf.__version__}')"
   ]
  },
  {
   "cell_type": "code",
   "execution_count": 2,
   "metadata": {},
   "outputs": [
    {
     "data": {
      "text/plain": [
       "<matplotlib.image.AxesImage at 0x7fbc590370d0>"
      ]
     },
     "execution_count": 2,
     "metadata": {},
     "output_type": "execute_result"
    },
    {
     "data": {
      "image/png": "[encoded data removed]",
      "text/plain": [
       "<Figure size 432x288 with 1 Axes>"
      ]
     },
     "metadata": {
      "needs_background": "light"
     },
     "output_type": "display_data"
    }
   ],
   "source": [
    "path0111_11 = '../ML/images/train/0101/0101_16.bmp'\n",
    "img = image.load_img(path0111_11)\n",
    "plt.imshow(img)"
   ]
  },
  {
   "cell_type": "code",
   "execution_count": 3,
   "metadata": {},
   "outputs": [
    {
     "data": {
      "text/plain": [
       "(120, 120, 3)"
      ]
     },
     "execution_count": 3,
     "metadata": {},
     "output_type": "execute_result"
    }
   ],
   "source": [
    "img0111_11 = cv2.imread(path0111_11)\n",
    "img0111_11.shape"
   ]
  },
  {
   "cell_type": "code",
   "execution_count": 4,
   "metadata": {},
   "outputs": [
    {
     "name": "stdout",
     "output_type": "stream",
     "text": [
      "Found 544 images belonging to 16 classes.\n",
      "Found 136 images belonging to 16 classes.\n"
     ]
    }
   ],
   "source": [
    "train = ImageDataGenerator(rescale=1/255)\n",
    "validation = ImageDataGenerator(rescale=1/255)\n",
    "train_dataset = train.flow_from_directory('../ML/images/train/', \n",
    "                                          target_size=(120, 120),\n",
    "                                          batch_size=3)\n",
    "validation_dataset = validation.flow_from_directory('../ML/images/validation/', \n",
    "                                            target_size=(120, 120),\n",
    "                                            batch_size=3)"
   ]
  },
  {
   "cell_type": "code",
   "execution_count": 5,
   "metadata": {},
   "outputs": [
    {
     "data": {
      "text/plain": [
       "{'0000': 0,\n",
       " '0001': 1,\n",
       " '0010': 2,\n",
       " '0011': 3,\n",
       " '0100': 4,\n",
       " '0101': 5,\n",
       " '0110': 6,\n",
       " '0111': 7,\n",
       " '1000': 8,\n",
       " '1001': 9,\n",
       " '1010': 10,\n",
       " '1011': 11,\n",
       " '1100': 12,\n",
       " '1101': 13,\n",
       " '1110': 14,\n",
       " '1111': 15}"
      ]
     },
     "execution_count": 5,
     "metadata": {},
     "output_type": "execute_result"
    }
   ],
   "source": [
    "train_dataset.class_indices"
   ]
  },
  {
   "cell_type": "code",
   "execution_count": 6,
   "metadata": {},
   "outputs": [],
   "source": [
    "model = tf.keras.models.Sequential([tf.keras.layers.Conv2D(16,(3,3),activation='relu',input_shape = (120, 120, 3)),\n",
    "                                    tf.keras.layers.MaxPooling2D(2,2),\n",
    "                                    tf.keras.layers.Conv2D(32,(3,3),activation='relu'),\n",
    "                                    tf.keras.layers.MaxPooling2D(2,2),\n",
    "                                    tf.keras.layers.Conv2D(64,(3,3),activation='relu',input_shape = (120, 120, 3)),\n",
    "                                    tf.keras.layers.MaxPooling2D(2,2),\n",
    "                                    tf.keras.layers.Flatten(),\n",
    "                                    tf.keras.layers.Dropout(0.15),\n",
    "                                    tf.keras.layers.Dense(512,activation='relu'),\n",
    "                                    tf.keras.layers.Dense(16,activation='softmax')\n",
    "                                   ])\n"
   ]
  },
  {
   "cell_type": "code",
   "execution_count": 7,
   "metadata": {},
   "outputs": [],
   "source": [
    "model.compile(loss='categorical_crossentropy',\n",
    "             optimizer=RMSprop(lr=0.001),\n",
    "             metrics=['accuracy'])"
   ]
  },
  {
   "cell_type": "code",
   "execution_count": 8,
   "metadata": {},
   "outputs": [
    {
     "name": "stdout",
     "output_type": "stream",
     "text": [
      "Epoch 1/18\n",
      "3/3 [==============================] - 0s 157ms/step - loss: 5.1009 - accuracy: 0.1111 - val_loss: 3.7564 - val_accuracy: 0.0588\n",
      "Epoch 2/18\n",
      "3/3 [==============================] - 0s 117ms/step - loss: 2.8835 - accuracy: 0.2222 - val_loss: 2.6824 - val_accuracy: 0.1691\n",
      "Epoch 3/18\n",
      "3/3 [==============================] - 0s 117ms/step - loss: 2.7724 - accuracy: 0.2222 - val_loss: 2.6102 - val_accuracy: 0.2941\n",
      "Epoch 4/18\n",
      "3/3 [==============================] - 0s 118ms/step - loss: 2.7883 - accuracy: 0.1111 - val_loss: 2.5575 - val_accuracy: 0.4191\n",
      "Epoch 5/18\n",
      "3/3 [==============================] - 0s 117ms/step - loss: 2.2936 - accuracy: 0.4444 - val_loss: 2.4815 - val_accuracy: 0.3456\n",
      "Epoch 6/18\n",
      "3/3 [==============================] - 0s 119ms/step - loss: 2.3389 - accuracy: 0.4444 - val_loss: 2.3850 - val_accuracy: 0.2279\n",
      "Epoch 7/18\n",
      "3/3 [==============================] - 0s 120ms/step - loss: 1.8485 - accuracy: 0.5556 - val_loss: 2.4707 - val_accuracy: 0.4118\n",
      "Epoch 8/18\n",
      "3/3 [==============================] - 0s 118ms/step - loss: 2.1942 - accuracy: 0.2857 - val_loss: 2.1451 - val_accuracy: 0.5882\n",
      "Epoch 9/18\n",
      "3/3 [==============================] - 0s 119ms/step - loss: 2.2875 - accuracy: 0.4444 - val_loss: 1.9465 - val_accuracy: 0.5882\n",
      "Epoch 10/18\n",
      "3/3 [==============================] - 0s 120ms/step - loss: 1.6516 - accuracy: 0.6667 - val_loss: 1.9339 - val_accuracy: 0.4044\n",
      "Epoch 11/18\n",
      "3/3 [==============================] - 0s 119ms/step - loss: 2.1729 - accuracy: 0.5556 - val_loss: 1.3863 - val_accuracy: 0.7647\n",
      "Epoch 12/18\n",
      "3/3 [==============================] - 0s 120ms/step - loss: 1.2115 - accuracy: 0.6667 - val_loss: 1.3042 - val_accuracy: 0.6544\n",
      "Epoch 13/18\n",
      "3/3 [==============================] - 0s 121ms/step - loss: 1.0751 - accuracy: 0.6667 - val_loss: 1.1917 - val_accuracy: 0.5735\n",
      "Epoch 14/18\n",
      "3/3 [==============================] - 0s 119ms/step - loss: 1.2274 - accuracy: 0.6667 - val_loss: 0.8337 - val_accuracy: 0.8235\n",
      "Epoch 15/18\n",
      "3/3 [==============================] - 0s 119ms/step - loss: 1.7959 - accuracy: 0.3333 - val_loss: 0.7501 - val_accuracy: 0.9779\n",
      "Epoch 16/18\n",
      "3/3 [==============================] - 0s 119ms/step - loss: 0.5660 - accuracy: 0.8889 - val_loss: 0.4566 - val_accuracy: 0.8676\n",
      "Epoch 17/18\n",
      "3/3 [==============================] - 0s 119ms/step - loss: 0.5101 - accuracy: 0.8889 - val_loss: 0.3405 - val_accuracy: 0.8897\n",
      "Epoch 18/18\n",
      "3/3 [==============================] - 0s 118ms/step - loss: 0.2458 - accuracy: 0.8889 - val_loss: 0.2797 - val_accuracy: 0.9044\n"
     ]
    },
    {
     "data": {
      "text/plain": [
       "<tensorflow.python.keras.callbacks.History at 0x7fbc590377c0>"
      ]
     },
     "execution_count": 8,
     "metadata": {},
     "output_type": "execute_result"
    }
   ],
   "source": [
    "model.fit(train_dataset,\n",
    "          steps_per_epoch=3,\n",
    "          epochs=18,\n",
    "          validation_data=validation_dataset)\n"
   ]
  },
  {
   "cell_type": "code",
   "execution_count": 9,
   "metadata": {},
   "outputs": [
    {
     "name": "stdout",
     "output_type": "stream",
     "text": [
      "WARNING:tensorflow:From /Users/tsbest/Documents/programming/python/DATA_COMMUNICATIONS_Final_Project/PC2/venv/lib/python3.8/site-packages/tensorflow/python/training/tracking/tracking.py:111: Model.state_updates (from tensorflow.python.keras.engine.training) is deprecated and will be removed in a future version.\n",
      "Instructions for updating:\n",
      "This property should not be used in TensorFlow 2.0, as updates are applied automatically.\n",
      "WARNING:tensorflow:From /Users/tsbest/Documents/programming/python/DATA_COMMUNICATIONS_Final_Project/PC2/venv/lib/python3.8/site-packages/tensorflow/python/training/tracking/tracking.py:111: Layer.updates (from tensorflow.python.keras.engine.base_layer) is deprecated and will be removed in a future version.\n",
      "Instructions for updating:\n",
      "This property should not be used in TensorFlow 2.0, as updates are applied automatically.\n",
      "INFO:tensorflow:Assets written to: model_datacom_3/assets\n"
     ]
    }
   ],
   "source": [
    "model.save('model_datacom_3')"
   ]
  },
  {
   "cell_type": "code",
   "execution_count": 15,
   "metadata": {},
   "outputs": [
    {
     "data": {
      "text/plain": [
       "<matplotlib.image.AxesImage at 0x7fbc78b82610>"
      ]
     },
     "execution_count": 15,
     "metadata": {},
     "output_type": "execute_result"
    },
    {
     "data": {
      "image/png": "[encoded data removed]",
      "text/plain": [
       "<Figure size 432x288 with 1 Axes>"
      ]
     },
     "metadata": {
      "needs_background": "light"
     },
     "output_type": "display_data"
    }
   ],
   "source": [
    "# test_path = '../ML/images/train/0101/0101__5.bmp'\n",
    "test_path = '../ML/images/train/1100/1100_12.bmp'\n",
    "test_img = image.load_img(test_path)\n",
    "plt.imshow(test_img)"
   ]
  },
  {
   "cell_type": "code",
   "execution_count": 16,
   "metadata": {},
   "outputs": [
    {
     "name": "stdout",
     "output_type": "stream",
     "text": [
      "[0. 0. 0. 0. 0. 0. 0. 0. 0. 0. 0. 0. 1. 0. 0. 0.]\n"
     ]
    }
   ],
   "source": [
    "array_test_img = image.img_to_array(test_img)\n",
    "array_test_img = np.expand_dims(array_test_img,axis=0)\n",
    "target = np.vstack([array_test_img])\n",
    "val = model.predict(target)\n",
    "print(val[0])"
   ]
  },
  {
   "cell_type": "code",
   "execution_count": 17,
   "metadata": {},
   "outputs": [
    {
     "data": {
      "text/plain": [
       "array([12])"
      ]
     },
     "execution_count": 17,
     "metadata": {},
     "output_type": "execute_result"
    }
   ],
   "source": [
    "model.predict_classes(target)"
   ]
  },
  {
   "cell_type": "code",
   "execution_count": 18,
   "metadata": {},
   "outputs": [
    {
     "name": "stdout",
     "output_type": "stream",
     "text": [
      "46/46 [==============================] - 0s 5ms/step - loss: 0.2797 - accuracy: 0.9044\n"
     ]
    },
    {
     "data": {
      "text/plain": [
       "[0.2796635329723358, 0.904411792755127]"
      ]
     },
     "execution_count": 18,
     "metadata": {},
     "output_type": "execute_result"
    }
   ],
   "source": [
    "model.evaluate(validation_dataset)"
   ]
  },
  {
   "cell_type": "code",
   "execution_count": null,
   "metadata": {},
   "outputs": [],
   "source": []
  }
 ],
 "metadata": {
  "kernelspec": {
   "display_name": "venv",
   "language": "python",
   "name": "venv"
  },
  "language_info": {
   "codemirror_mode": {
    "name": "ipython",
    "version": 3
   },
   "file_extension": ".py",
   "mimetype": "text/x-python",
   "name": "python",
   "nbconvert_exporter": "python",
   "pygments_lexer": "ipython3",
   "version": "3.8.3"
  }
 },
 "nbformat": 4,
 "nbformat_minor": 4
}
