{
 "cells": [
  {
   "cell_type": "code",
   "execution_count": 1,
   "metadata": {},
   "outputs": [
    {
     "name": "stdout",
     "output_type": "stream",
     "text": [
      "numpy version : 1.18.5\n",
      "tensorflow version : 2.3.1\n"
     ]
    }
   ],
   "source": [
    "from tensorflow.keras.preprocessing.image import ImageDataGenerator\n",
    "from tensorflow.keras.preprocessing import image\n",
    "from tensorflow.keras.optimizers import RMSprop\n",
    "from matplotlib import pyplot as plt\n",
    "import tensorflow as tf\n",
    "import joblib as jl\n",
    "import numpy as np\n",
    "import cv2\n",
    "import os\n",
    "\n",
    "print(f'numpy version : {np.__version__}')\n",
    "print(f'tensorflow version : {tf.__version__}')"
   ]
  },
  {
   "cell_type": "code",
   "execution_count": 2,
   "metadata": {},
   "outputs": [
    {
     "data": {
      "text/plain": [
       "<matplotlib.image.AxesImage at 0x7fb289fa2100>"
      ]
     },
     "execution_count": 2,
     "metadata": {},
     "output_type": "execute_result"
    },
    {
     "data": {
      "image/png": "[encoded data removed]",
      "text/plain": [
       "<Figure size 432x288 with 1 Axes>"
      ]
     },
     "metadata": {
      "needs_background": "light"
     },
     "output_type": "display_data"
    }
   ],
   "source": [
    "path0111_11 = '../ML/images/train/0111/0111_11.bmp'\n",
    "img = image.load_img(path0111_11)\n",
    "plt.imshow(img)"
   ]
  },
  {
   "cell_type": "code",
   "execution_count": 3,
   "metadata": {},
   "outputs": [
    {
     "data": {
      "text/plain": [
       "(120, 120, 3)"
      ]
     },
     "execution_count": 3,
     "metadata": {},
     "output_type": "execute_result"
    }
   ],
   "source": [
    "img0111_11 = cv2.imread(path0111_11)\n",
    "img0111_11.shape"
   ]
  },
  {
   "cell_type": "code",
   "execution_count": 4,
   "metadata": {},
   "outputs": [
    {
     "name": "stdout",
     "output_type": "stream",
     "text": [
      "Found 544 images belonging to 16 classes.\n",
      "Found 136 images belonging to 16 classes.\n"
     ]
    }
   ],
   "source": [
    "train = ImageDataGenerator(rescale=1/255)\n",
    "validation = ImageDataGenerator(rescale=1/255)\n",
    "train_dataset = train.flow_from_directory('../ML/images/train/', \n",
    "                                          target_size=(120, 120),\n",
    "                                          batch_size=3)\n",
    "validation_dataset = validation.flow_from_directory('../ML/images/validation/', \n",
    "                                            target_size=(120, 120),\n",
    "                                            batch_size=3)"
   ]
  },
  {
   "cell_type": "code",
   "execution_count": 5,
   "metadata": {},
   "outputs": [
    {
     "data": {
      "text/plain": [
       "{'0000': 0,\n",
       " '0001': 1,\n",
       " '0010': 2,\n",
       " '0011': 3,\n",
       " '0100': 4,\n",
       " '0101': 5,\n",
       " '0110': 6,\n",
       " '0111': 7,\n",
       " '1000': 8,\n",
       " '1001': 9,\n",
       " '1010': 10,\n",
       " '1011': 11,\n",
       " '1100': 12,\n",
       " '1101': 13,\n",
       " '1110': 14,\n",
       " '1111': 15}"
      ]
     },
     "execution_count": 5,
     "metadata": {},
     "output_type": "execute_result"
    }
   ],
   "source": [
    "train_dataset.class_indices"
   ]
  },
  {
   "cell_type": "code",
   "execution_count": 6,
   "metadata": {},
   "outputs": [],
   "source": [
    "model = tf.keras.models.Sequential([tf.keras.layers.Conv2D(16,(3,3),activation='relu',input_shape = (120, 120, 3)),\n",
    "                                    tf.keras.layers.MaxPooling2D(2,2),\n",
    "                                    tf.keras.layers.Conv2D(32,(3,3),activation='relu'),\n",
    "                                    tf.keras.layers.MaxPooling2D(2,2),\n",
    "                                    tf.keras.layers.Conv2D(64,(3,3),activation='relu',input_shape = (120, 120, 3)),\n",
    "                                    tf.keras.layers.MaxPooling2D(2,2),\n",
    "                                    tf.keras.layers.Flatten(),\n",
    "                                    tf.keras.layers.Dropout(0.2),\n",
    "                                    tf.keras.layers.Dense(512,activation='relu'),\n",
    "                                    tf.keras.layers.Dense(16,activation='sigmoid')\n",
    "                                   ])\n"
   ]
  },
  {
   "cell_type": "code",
   "execution_count": 7,
   "metadata": {},
   "outputs": [],
   "source": [
    "model.compile(loss='binary_crossentropy',\n",
    "             optimizer=\"adam\",\n",
    "             metrics=['accuracy'])"
   ]
  },
  {
   "cell_type": "code",
   "execution_count": 8,
   "metadata": {},
   "outputs": [
    {
     "name": "stdout",
     "output_type": "stream",
     "text": [
      "Epoch 1/26\n",
      "3/3 [==============================] - 0s 143ms/step - loss: 0.5515 - accuracy: 0.1111 - val_loss: 0.2631 - val_accuracy: 0.0588\n",
      "Epoch 2/26\n",
      "3/3 [==============================] - 0s 101ms/step - loss: 0.3004 - accuracy: 0.0000e+00 - val_loss: 0.3432 - val_accuracy: 0.0588\n",
      "Epoch 3/26\n",
      "3/3 [==============================] - 0s 105ms/step - loss: 0.3148 - accuracy: 0.2222 - val_loss: 0.2875 - val_accuracy: 0.1250\n",
      "Epoch 4/26\n",
      "3/3 [==============================] - 0s 115ms/step - loss: 0.2692 - accuracy: 0.2222 - val_loss: 0.2881 - val_accuracy: 0.1176\n",
      "Epoch 5/26\n",
      "3/3 [==============================] - 0s 108ms/step - loss: 0.3377 - accuracy: 0.1111 - val_loss: 0.2827 - val_accuracy: 0.1176\n",
      "Epoch 6/26\n",
      "3/3 [==============================] - 0s 103ms/step - loss: 0.2858 - accuracy: 0.0000e+00 - val_loss: 0.2578 - val_accuracy: 0.2941\n",
      "Epoch 7/26\n",
      "3/3 [==============================] - 0s 126ms/step - loss: 0.2667 - accuracy: 0.2222 - val_loss: 0.2301 - val_accuracy: 0.3456\n",
      "Epoch 8/26\n",
      "3/3 [==============================] - 0s 130ms/step - loss: 0.2335 - accuracy: 0.4444 - val_loss: 0.2240 - val_accuracy: 0.3529\n",
      "Epoch 9/26\n",
      "3/3 [==============================] - 0s 107ms/step - loss: 0.2200 - accuracy: 0.3333 - val_loss: 0.2192 - val_accuracy: 0.3088\n",
      "Epoch 10/26\n",
      "3/3 [==============================] - 0s 107ms/step - loss: 0.2271 - accuracy: 0.1111 - val_loss: 0.2132 - val_accuracy: 0.2353\n",
      "Epoch 11/26\n",
      "3/3 [==============================] - 0s 110ms/step - loss: 0.2161 - accuracy: 0.3333 - val_loss: 0.2117 - val_accuracy: 0.3235\n",
      "Epoch 12/26\n",
      "3/3 [==============================] - 0s 109ms/step - loss: 0.2193 - accuracy: 0.4444 - val_loss: 0.1971 - val_accuracy: 0.3456\n",
      "Epoch 13/26\n",
      "3/3 [==============================] - 0s 107ms/step - loss: 0.2196 - accuracy: 0.2222 - val_loss: 0.1802 - val_accuracy: 0.4485\n",
      "Epoch 14/26\n",
      "3/3 [==============================] - 0s 107ms/step - loss: 0.1654 - accuracy: 0.5556 - val_loss: 0.1644 - val_accuracy: 0.6838\n",
      "Epoch 15/26\n",
      "3/3 [==============================] - 0s 110ms/step - loss: 0.1401 - accuracy: 0.5556 - val_loss: 0.1487 - val_accuracy: 0.5882\n",
      "Epoch 16/26\n",
      "3/3 [==============================] - 0s 108ms/step - loss: 0.1560 - accuracy: 0.5556 - val_loss: 0.1338 - val_accuracy: 0.6912\n",
      "Epoch 17/26\n",
      "3/3 [==============================] - 0s 111ms/step - loss: 0.1150 - accuracy: 0.7778 - val_loss: 0.1351 - val_accuracy: 0.6765\n",
      "Epoch 18/26\n",
      "3/3 [==============================] - 0s 108ms/step - loss: 0.1489 - accuracy: 0.5556 - val_loss: 0.1167 - val_accuracy: 0.6912\n",
      "Epoch 19/26\n",
      "3/3 [==============================] - 0s 109ms/step - loss: 0.1733 - accuracy: 0.5556 - val_loss: 0.1037 - val_accuracy: 0.7353\n",
      "Epoch 20/26\n",
      "3/3 [==============================] - 0s 109ms/step - loss: 0.0788 - accuracy: 0.7778 - val_loss: 0.0891 - val_accuracy: 0.8750\n",
      "Epoch 21/26\n",
      "3/3 [==============================] - 0s 109ms/step - loss: 0.1003 - accuracy: 0.7778 - val_loss: 0.0807 - val_accuracy: 0.8750\n",
      "Epoch 22/26\n",
      "3/3 [==============================] - 0s 107ms/step - loss: 0.0511 - accuracy: 1.0000 - val_loss: 0.0779 - val_accuracy: 0.8603\n",
      "Epoch 23/26\n",
      "3/3 [==============================] - 0s 110ms/step - loss: 0.0845 - accuracy: 0.8889 - val_loss: 0.0891 - val_accuracy: 0.7426\n",
      "Epoch 24/26\n",
      "3/3 [==============================] - 0s 107ms/step - loss: 0.0759 - accuracy: 0.8889 - val_loss: 0.0807 - val_accuracy: 0.7941\n",
      "Epoch 25/26\n",
      "3/3 [==============================] - 0s 108ms/step - loss: 0.0834 - accuracy: 0.5556 - val_loss: 0.0596 - val_accuracy: 0.8824\n",
      "Epoch 26/26\n",
      "3/3 [==============================] - 0s 109ms/step - loss: 0.0652 - accuracy: 0.8889 - val_loss: 0.0507 - val_accuracy: 0.8750\n"
     ]
    },
    {
     "data": {
      "text/plain": [
       "<tensorflow.python.keras.callbacks.History at 0x7fb28a0397c0>"
      ]
     },
     "execution_count": 8,
     "metadata": {},
     "output_type": "execute_result"
    }
   ],
   "source": [
    "model.fit(train_dataset,\n",
    "          steps_per_epoch=3,\n",
    "          epochs=26,\n",
    "          validation_data=validation_dataset)\n"
   ]
  },
  {
   "cell_type": "code",
   "execution_count": 9,
   "metadata": {},
   "outputs": [
    {
     "name": "stdout",
     "output_type": "stream",
     "text": [
      "WARNING:tensorflow:From /Users/tsbest/Documents/programming/python/DATA_COMMUNICATIONS_Final_Project/PC2/venv/lib/python3.8/site-packages/tensorflow/python/training/tracking/tracking.py:111: Model.state_updates (from tensorflow.python.keras.engine.training) is deprecated and will be removed in a future version.\n",
      "Instructions for updating:\n",
      "This property should not be used in TensorFlow 2.0, as updates are applied automatically.\n",
      "WARNING:tensorflow:From /Users/tsbest/Documents/programming/python/DATA_COMMUNICATIONS_Final_Project/PC2/venv/lib/python3.8/site-packages/tensorflow/python/training/tracking/tracking.py:111: Layer.updates (from tensorflow.python.keras.engine.base_layer) is deprecated and will be removed in a future version.\n",
      "Instructions for updating:\n",
      "This property should not be used in TensorFlow 2.0, as updates are applied automatically.\n",
      "INFO:tensorflow:Assets written to: ./assets\n"
     ]
    }
   ],
   "source": [
    "model.save('./')"
   ]
  },
  {
   "cell_type": "code",
   "execution_count": 13,
   "metadata": {},
   "outputs": [
    {
     "data": {
      "text/plain": [
       "<matplotlib.image.AxesImage at 0x7fb28ac70490>"
      ]
     },
     "execution_count": 13,
     "metadata": {},
     "output_type": "execute_result"
    },
    {
     "data": {
      "image/png": "[encoded data removed]",
      "text/plain": [
       "<Figure size 432x288 with 1 Axes>"
      ]
     },
     "metadata": {
      "needs_background": "light"
     },
     "output_type": "display_data"
    }
   ],
   "source": [
    "test_path = '../ML/images/train/0011/0011_14.bmp'\n",
    "test_img = image.load_img(test_path)\n",
    "plt.imshow(test_img)"
   ]
  },
  {
   "cell_type": "code",
   "execution_count": 14,
   "metadata": {},
   "outputs": [
    {
     "name": "stdout",
     "output_type": "stream",
     "text": [
      "[0. 0. 0. 1. 0. 0. 0. 0. 0. 0. 0. 0. 0. 0. 0. 0.]\n"
     ]
    }
   ],
   "source": [
    "array_test_img = image.img_to_array(test_img)\n",
    "array_test_img = np.expand_dims(array_test_img,axis=0)\n",
    "target = np.vstack([array_test_img])\n",
    "val = model.predict(target)\n",
    "print(val[0])"
   ]
  },
  {
   "cell_type": "code",
   "execution_count": 15,
   "metadata": {},
   "outputs": [
    {
     "data": {
      "text/plain": [
       "array([0., 0., 0., 1., 0., 0., 0., 0., 0., 0., 0., 0., 0., 0., 0., 0.],\n",
       "      dtype=float32)"
      ]
     },
     "execution_count": 15,
     "metadata": {},
     "output_type": "execute_result"
    }
   ],
   "source": [
    "val[0]"
   ]
  },
  {
   "cell_type": "code",
   "execution_count": null,
   "metadata": {},
   "outputs": [],
   "source": []
  }
 ],
 "metadata": {
  "kernelspec": {
   "display_name": "venv",
   "language": "python",
   "name": "venv"
  },
  "language_info": {
   "codemirror_mode": {
    "name": "ipython",
    "version": 3
   },
   "file_extension": ".py",
   "mimetype": "text/x-python",
   "name": "python",
   "nbconvert_exporter": "python",
   "pygments_lexer": "ipython3",
   "version": "3.8.3"
  }
 },
 "nbformat": 4,
 "nbformat_minor": 4
}
