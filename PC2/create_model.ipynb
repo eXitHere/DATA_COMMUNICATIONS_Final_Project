{
 "cells": [
  {
   "cell_type": "code",
   "execution_count": 1,
   "metadata": {},
   "outputs": [
    {
     "name": "stdout",
     "output_type": "stream",
     "text": [
      "numpy version : 1.18.5\n",
      "pandas version : 1.1.4\n",
      "tensorflow version : 2.3.1\n"
     ]
    }
   ],
   "source": [
    "from tensorflow.keras.preprocessing.image import ImageDataGenerator\n",
    "from tensorflow.keras.preprocessing import image\n",
    "from tensorflow.keras.optimizers import RMSprop\n",
    "from matplotlib import pyplot as plt\n",
    "import tensorflow as tf\n",
    "import joblib as jl\n",
    "import pandas as pd\n",
    "import numpy as np\n",
    "import cv2\n",
    "import os\n",
    "\n",
    "print(f'numpy version : {np.__version__}')\n",
    "print(f'pandas version : {pd.__version__}')\n",
    "print(f'tensorflow version : {tf.__version__}')"
   ]
  },
  {
   "cell_type": "code",
   "execution_count": 2,
   "metadata": {},
   "outputs": [
    {
     "data": {
      "text/plain": [
       "<matplotlib.image.AxesImage at 0x7f9a10b530d0>"
      ]
     },
     "execution_count": 2,
     "metadata": {},
     "output_type": "execute_result"
    },
    {
     "data": {
      "image/png": "[encoded data removed]",
      "text/plain": [
       "<Figure size 432x288 with 1 Axes>"
      ]
     },
     "metadata": {
      "needs_background": "light"
     },
     "output_type": "display_data"
    }
   ],
   "source": [
    "path_test_images = '../ML/data_set_final/train/0110/0110_1_672372.bmp'\n",
    "img = image.load_img(path_test_images)\n",
    "plt.imshow(img)"
   ]
  },
  {
   "cell_type": "code",
   "execution_count": 3,
   "metadata": {},
   "outputs": [
    {
     "data": {
      "text/plain": [
       "(160, 120, 3)"
      ]
     },
     "execution_count": 3,
     "metadata": {},
     "output_type": "execute_result"
    }
   ],
   "source": [
    "path_test_images = cv2.imread(path_test_images)\n",
    "path_test_images.shape"
   ]
  },
  {
   "cell_type": "code",
   "execution_count": 4,
   "metadata": {},
   "outputs": [
    {
     "name": "stdout",
     "output_type": "stream",
     "text": [
      "Found 864 images belonging to 16 classes.\n",
      "Found 197 images belonging to 16 classes.\n"
     ]
    }
   ],
   "source": [
    "train = ImageDataGenerator(rescale=1/255)\n",
    "validation = ImageDataGenerator(rescale=1/255)\n",
    "train_dataset = train.flow_from_directory('../ML/data_set_final/train/', \n",
    "                                          target_size=(160, 120),\n",
    "                                          batch_size=3)\n",
    "validation_dataset = validation.flow_from_directory('../ML/data_set_final/validation/', \n",
    "                                            target_size=(160, 120),\n",
    "                                            batch_size=3)"
   ]
  },
  {
   "cell_type": "code",
   "execution_count": 5,
   "metadata": {},
   "outputs": [
    {
     "data": {
      "text/plain": [
       "{'0000': 0,\n",
       " '0001': 1,\n",
       " '0010': 2,\n",
       " '0011': 3,\n",
       " '0100': 4,\n",
       " '0101': 5,\n",
       " '0110': 6,\n",
       " '0111': 7,\n",
       " '1000': 8,\n",
       " '1001': 9,\n",
       " '1010': 10,\n",
       " '1011': 11,\n",
       " '1100': 12,\n",
       " '1101': 13,\n",
       " '1110': 14,\n",
       " '1111': 15}"
      ]
     },
     "execution_count": 5,
     "metadata": {},
     "output_type": "execute_result"
    }
   ],
   "source": [
    "train_dataset.class_indices"
   ]
  },
  {
   "cell_type": "code",
   "execution_count": 6,
   "metadata": {},
   "outputs": [],
   "source": [
    "model = tf.keras.models.Sequential([tf.keras.layers.Conv2D(16,(3,3),activation='relu',input_shape = (160, 120, 3)),\n",
    "                                    tf.keras.layers.MaxPooling2D(2,2),\n",
    "                                    tf.keras.layers.Conv2D(32,(3,3),activation='relu'),\n",
    "                                    tf.keras.layers.MaxPooling2D(2,2),\n",
    "                                    tf.keras.layers.Conv2D(64,(3,3),activation='relu',input_shape = (160, 120, 3)),\n",
    "                                    tf.keras.layers.MaxPooling2D(2,2),\n",
    "                                    tf.keras.layers.Flatten(),\n",
    "                                    tf.keras.layers.Dropout(0.15),\n",
    "                                    tf.keras.layers.Dense(512,activation='relu'),\n",
    "                                    tf.keras.layers.Dense(16,activation='softmax')\n",
    "                                   ])\n"
   ]
  },
  {
   "cell_type": "code",
   "execution_count": 7,
   "metadata": {},
   "outputs": [
    {
     "name": "stdout",
     "output_type": "stream",
     "text": [
      "Model: \"sequential\"\n",
      "_________________________________________________________________\n",
      "Layer (type)                 Output Shape              Param #   \n",
      "=================================================================\n",
      "conv2d (Conv2D)              (None, 158, 118, 16)      448       \n",
      "_________________________________________________________________\n",
      "max_pooling2d (MaxPooling2D) (None, 79, 59, 16)        0         \n",
      "_________________________________________________________________\n",
      "conv2d_1 (Conv2D)            (None, 77, 57, 32)        4640      \n",
      "_________________________________________________________________\n",
      "max_pooling2d_1 (MaxPooling2 (None, 38, 28, 32)        0         \n",
      "_________________________________________________________________\n",
      "conv2d_2 (Conv2D)            (None, 36, 26, 64)        18496     \n",
      "_________________________________________________________________\n",
      "max_pooling2d_2 (MaxPooling2 (None, 18, 13, 64)        0         \n",
      "_________________________________________________________________\n",
      "flatten (Flatten)            (None, 14976)             0         \n",
      "_________________________________________________________________\n",
      "dropout (Dropout)            (None, 14976)             0         \n",
      "_________________________________________________________________\n",
      "dense (Dense)                (None, 512)               7668224   \n",
      "_________________________________________________________________\n",
      "dense_1 (Dense)              (None, 16)                8208      \n",
      "=================================================================\n",
      "Total params: 7,700,016\n",
      "Trainable params: 7,700,016\n",
      "Non-trainable params: 0\n",
      "_________________________________________________________________\n"
     ]
    }
   ],
   "source": [
    "model.summary()"
   ]
  },
  {
   "cell_type": "code",
   "execution_count": 8,
   "metadata": {},
   "outputs": [],
   "source": [
    "model.compile(loss='categorical_crossentropy', optimizer='adam', metrics=['accuracy'])"
   ]
  },
  {
   "cell_type": "code",
   "execution_count": 9,
   "metadata": {},
   "outputs": [
    {
     "name": "stdout",
     "output_type": "stream",
     "text": [
      "Epoch 1/25\n",
      "3/3 [==============================] - 1s 220ms/step - loss: 2.9024 - accuracy: 0.0000e+00 - val_loss: 2.7336 - val_accuracy: 0.0964\n",
      "Epoch 2/25\n",
      "3/3 [==============================] - 1s 180ms/step - loss: 2.8694 - accuracy: 0.0000e+00 - val_loss: 2.7268 - val_accuracy: 0.2538\n",
      "Epoch 3/25\n",
      "3/3 [==============================] - 1s 182ms/step - loss: 2.7358 - accuracy: 0.4444 - val_loss: 2.7367 - val_accuracy: 0.2386\n",
      "Epoch 4/25\n",
      "3/3 [==============================] - 1s 186ms/step - loss: 2.7799 - accuracy: 0.1111 - val_loss: 2.7383 - val_accuracy: 0.0609\n",
      "Epoch 5/25\n",
      "3/3 [==============================] - 1s 189ms/step - loss: 2.6804 - accuracy: 0.2222 - val_loss: 2.7077 - val_accuracy: 0.1320\n",
      "Epoch 6/25\n",
      "3/3 [==============================] - 1s 194ms/step - loss: 2.6916 - accuracy: 0.1111 - val_loss: 2.6549 - val_accuracy: 0.1523\n",
      "Epoch 7/25\n",
      "3/3 [==============================] - 1s 194ms/step - loss: 2.6416 - accuracy: 0.1111 - val_loss: 2.5566 - val_accuracy: 0.2741\n",
      "Epoch 8/25\n",
      "3/3 [==============================] - 1s 195ms/step - loss: 2.5433 - accuracy: 0.4444 - val_loss: 2.4057 - val_accuracy: 0.3604\n",
      "Epoch 9/25\n",
      "3/3 [==============================] - 1s 194ms/step - loss: 2.3561 - accuracy: 0.4444 - val_loss: 2.2038 - val_accuracy: 0.3807\n",
      "Epoch 10/25\n",
      "3/3 [==============================] - 1s 190ms/step - loss: 2.7016 - accuracy: 0.1111 - val_loss: 2.0474 - val_accuracy: 0.4721\n",
      "Epoch 11/25\n",
      "3/3 [==============================] - 1s 189ms/step - loss: 1.8491 - accuracy: 0.6667 - val_loss: 1.8295 - val_accuracy: 0.4873\n",
      "Epoch 12/25\n",
      "3/3 [==============================] - 1s 194ms/step - loss: 1.5597 - accuracy: 0.4444 - val_loss: 1.7287 - val_accuracy: 0.5330\n",
      "Epoch 13/25\n",
      "3/3 [==============================] - 1s 197ms/step - loss: 2.4936 - accuracy: 0.3333 - val_loss: 1.4107 - val_accuracy: 0.6396\n",
      "Epoch 14/25\n",
      "3/3 [==============================] - 1s 194ms/step - loss: 1.3864 - accuracy: 0.5556 - val_loss: 1.2766 - val_accuracy: 0.8274\n",
      "Epoch 15/25\n",
      "3/3 [==============================] - 1s 192ms/step - loss: 1.1838 - accuracy: 0.7778 - val_loss: 1.0234 - val_accuracy: 0.7056\n",
      "Epoch 16/25\n",
      "3/3 [==============================] - 1s 199ms/step - loss: 0.7188 - accuracy: 0.7778 - val_loss: 0.7792 - val_accuracy: 0.7208\n",
      "Epoch 17/25\n",
      "3/3 [==============================] - 1s 196ms/step - loss: 0.4757 - accuracy: 0.8889 - val_loss: 0.6343 - val_accuracy: 0.7665\n",
      "Epoch 18/25\n",
      "3/3 [==============================] - 1s 197ms/step - loss: 0.5429 - accuracy: 0.7778 - val_loss: 0.4097 - val_accuracy: 0.8629\n",
      "Epoch 19/25\n",
      "3/3 [==============================] - 1s 192ms/step - loss: 0.3745 - accuracy: 0.8889 - val_loss: 0.2540 - val_accuracy: 0.9188\n",
      "Epoch 20/25\n",
      "3/3 [==============================] - 1s 200ms/step - loss: 0.1641 - accuracy: 0.8889 - val_loss: 0.3066 - val_accuracy: 0.8832\n",
      "Epoch 21/25\n",
      "3/3 [==============================] - 1s 201ms/step - loss: 0.1616 - accuracy: 1.0000 - val_loss: 0.5028 - val_accuracy: 0.8274\n",
      "Epoch 22/25\n",
      "3/3 [==============================] - 1s 205ms/step - loss: 0.5298 - accuracy: 0.8889 - val_loss: 0.3386 - val_accuracy: 0.8782\n",
      "Epoch 23/25\n",
      "3/3 [==============================] - 1s 197ms/step - loss: 0.5457 - accuracy: 0.8889 - val_loss: 0.2427 - val_accuracy: 0.9036\n",
      "Epoch 24/25\n",
      "3/3 [==============================] - 1s 192ms/step - loss: 0.3323 - accuracy: 0.8889 - val_loss: 0.1666 - val_accuracy: 0.9442\n",
      "Epoch 25/25\n",
      "3/3 [==============================] - 1s 196ms/step - loss: 0.1719 - accuracy: 0.8889 - val_loss: 0.2499 - val_accuracy: 0.9137\n"
     ]
    },
    {
     "data": {
      "text/plain": [
       "<tensorflow.python.keras.callbacks.History at 0x7f9a631b3a60>"
      ]
     },
     "execution_count": 9,
     "metadata": {},
     "output_type": "execute_result"
    }
   ],
   "source": [
    "model.fit(train_dataset,\n",
    "          steps_per_epoch=3,\n",
    "          epochs=25,\n",
    "          validation_data=validation_dataset)\n"
   ]
  },
  {
   "cell_type": "code",
   "execution_count": 10,
   "metadata": {},
   "outputs": [
    {
     "data": {
      "text/html": [
       "<div>\n",
       "<style scoped>\n",
       "    .dataframe tbody tr th:only-of-type {\n",
       "        vertical-align: middle;\n",
       "    }\n",
       "\n",
       "    .dataframe tbody tr th {\n",
       "        vertical-align: top;\n",
       "    }\n",
       "\n",
       "    .dataframe thead th {\n",
       "        text-align: right;\n",
       "    }\n",
       "</style>\n",
       "<table border=\"1\" class=\"dataframe\">\n",
       "  <thead>\n",
       "    <tr style=\"text-align: right;\">\n",
       "      <th></th>\n",
       "      <th>loss</th>\n",
       "      <th>accuracy</th>\n",
       "      <th>val_loss</th>\n",
       "      <th>val_accuracy</th>\n",
       "    </tr>\n",
       "  </thead>\n",
       "  <tbody>\n",
       "    <tr>\n",
       "      <th>0</th>\n",
       "      <td>2.902442</td>\n",
       "      <td>0.000000</td>\n",
       "      <td>2.733554</td>\n",
       "      <td>0.096447</td>\n",
       "    </tr>\n",
       "    <tr>\n",
       "      <th>1</th>\n",
       "      <td>2.869395</td>\n",
       "      <td>0.000000</td>\n",
       "      <td>2.726813</td>\n",
       "      <td>0.253807</td>\n",
       "    </tr>\n",
       "    <tr>\n",
       "      <th>2</th>\n",
       "      <td>2.735818</td>\n",
       "      <td>0.444444</td>\n",
       "      <td>2.736723</td>\n",
       "      <td>0.238579</td>\n",
       "    </tr>\n",
       "    <tr>\n",
       "      <th>3</th>\n",
       "      <td>2.779916</td>\n",
       "      <td>0.111111</td>\n",
       "      <td>2.738267</td>\n",
       "      <td>0.060914</td>\n",
       "    </tr>\n",
       "    <tr>\n",
       "      <th>4</th>\n",
       "      <td>2.680446</td>\n",
       "      <td>0.222222</td>\n",
       "      <td>2.707731</td>\n",
       "      <td>0.131980</td>\n",
       "    </tr>\n",
       "    <tr>\n",
       "      <th>5</th>\n",
       "      <td>2.691575</td>\n",
       "      <td>0.111111</td>\n",
       "      <td>2.654871</td>\n",
       "      <td>0.152284</td>\n",
       "    </tr>\n",
       "    <tr>\n",
       "      <th>6</th>\n",
       "      <td>2.641606</td>\n",
       "      <td>0.111111</td>\n",
       "      <td>2.556567</td>\n",
       "      <td>0.274112</td>\n",
       "    </tr>\n",
       "    <tr>\n",
       "      <th>7</th>\n",
       "      <td>2.543345</td>\n",
       "      <td>0.444444</td>\n",
       "      <td>2.405653</td>\n",
       "      <td>0.360406</td>\n",
       "    </tr>\n",
       "    <tr>\n",
       "      <th>8</th>\n",
       "      <td>2.356079</td>\n",
       "      <td>0.444444</td>\n",
       "      <td>2.203798</td>\n",
       "      <td>0.380711</td>\n",
       "    </tr>\n",
       "    <tr>\n",
       "      <th>9</th>\n",
       "      <td>2.701633</td>\n",
       "      <td>0.111111</td>\n",
       "      <td>2.047400</td>\n",
       "      <td>0.472081</td>\n",
       "    </tr>\n",
       "    <tr>\n",
       "      <th>10</th>\n",
       "      <td>1.849108</td>\n",
       "      <td>0.666667</td>\n",
       "      <td>1.829501</td>\n",
       "      <td>0.487310</td>\n",
       "    </tr>\n",
       "    <tr>\n",
       "      <th>11</th>\n",
       "      <td>1.559682</td>\n",
       "      <td>0.444444</td>\n",
       "      <td>1.728663</td>\n",
       "      <td>0.532995</td>\n",
       "    </tr>\n",
       "    <tr>\n",
       "      <th>12</th>\n",
       "      <td>2.493636</td>\n",
       "      <td>0.333333</td>\n",
       "      <td>1.410656</td>\n",
       "      <td>0.639594</td>\n",
       "    </tr>\n",
       "    <tr>\n",
       "      <th>13</th>\n",
       "      <td>1.386411</td>\n",
       "      <td>0.555556</td>\n",
       "      <td>1.276647</td>\n",
       "      <td>0.827411</td>\n",
       "    </tr>\n",
       "    <tr>\n",
       "      <th>14</th>\n",
       "      <td>1.183808</td>\n",
       "      <td>0.777778</td>\n",
       "      <td>1.023402</td>\n",
       "      <td>0.705584</td>\n",
       "    </tr>\n",
       "    <tr>\n",
       "      <th>15</th>\n",
       "      <td>0.718848</td>\n",
       "      <td>0.777778</td>\n",
       "      <td>0.779179</td>\n",
       "      <td>0.720812</td>\n",
       "    </tr>\n",
       "    <tr>\n",
       "      <th>16</th>\n",
       "      <td>0.475690</td>\n",
       "      <td>0.888889</td>\n",
       "      <td>0.634319</td>\n",
       "      <td>0.766497</td>\n",
       "    </tr>\n",
       "    <tr>\n",
       "      <th>17</th>\n",
       "      <td>0.542913</td>\n",
       "      <td>0.777778</td>\n",
       "      <td>0.409722</td>\n",
       "      <td>0.862944</td>\n",
       "    </tr>\n",
       "    <tr>\n",
       "      <th>18</th>\n",
       "      <td>0.374491</td>\n",
       "      <td>0.888889</td>\n",
       "      <td>0.254015</td>\n",
       "      <td>0.918782</td>\n",
       "    </tr>\n",
       "    <tr>\n",
       "      <th>19</th>\n",
       "      <td>0.164066</td>\n",
       "      <td>0.888889</td>\n",
       "      <td>0.306628</td>\n",
       "      <td>0.883249</td>\n",
       "    </tr>\n",
       "    <tr>\n",
       "      <th>20</th>\n",
       "      <td>0.161577</td>\n",
       "      <td>1.000000</td>\n",
       "      <td>0.502783</td>\n",
       "      <td>0.827411</td>\n",
       "    </tr>\n",
       "    <tr>\n",
       "      <th>21</th>\n",
       "      <td>0.529788</td>\n",
       "      <td>0.888889</td>\n",
       "      <td>0.338563</td>\n",
       "      <td>0.878173</td>\n",
       "    </tr>\n",
       "    <tr>\n",
       "      <th>22</th>\n",
       "      <td>0.545742</td>\n",
       "      <td>0.888889</td>\n",
       "      <td>0.242677</td>\n",
       "      <td>0.903553</td>\n",
       "    </tr>\n",
       "    <tr>\n",
       "      <th>23</th>\n",
       "      <td>0.332292</td>\n",
       "      <td>0.888889</td>\n",
       "      <td>0.166638</td>\n",
       "      <td>0.944162</td>\n",
       "    </tr>\n",
       "    <tr>\n",
       "      <th>24</th>\n",
       "      <td>0.171889</td>\n",
       "      <td>0.888889</td>\n",
       "      <td>0.249925</td>\n",
       "      <td>0.913706</td>\n",
       "    </tr>\n",
       "  </tbody>\n",
       "</table>\n",
       "</div>"
      ],
      "text/plain": [
       "        loss  accuracy  val_loss  val_accuracy\n",
       "0   2.902442  0.000000  2.733554      0.096447\n",
       "1   2.869395  0.000000  2.726813      0.253807\n",
       "2   2.735818  0.444444  2.736723      0.238579\n",
       "3   2.779916  0.111111  2.738267      0.060914\n",
       "4   2.680446  0.222222  2.707731      0.131980\n",
       "5   2.691575  0.111111  2.654871      0.152284\n",
       "6   2.641606  0.111111  2.556567      0.274112\n",
       "7   2.543345  0.444444  2.405653      0.360406\n",
       "8   2.356079  0.444444  2.203798      0.380711\n",
       "9   2.701633  0.111111  2.047400      0.472081\n",
       "10  1.849108  0.666667  1.829501      0.487310\n",
       "11  1.559682  0.444444  1.728663      0.532995\n",
       "12  2.493636  0.333333  1.410656      0.639594\n",
       "13  1.386411  0.555556  1.276647      0.827411\n",
       "14  1.183808  0.777778  1.023402      0.705584\n",
       "15  0.718848  0.777778  0.779179      0.720812\n",
       "16  0.475690  0.888889  0.634319      0.766497\n",
       "17  0.542913  0.777778  0.409722      0.862944\n",
       "18  0.374491  0.888889  0.254015      0.918782\n",
       "19  0.164066  0.888889  0.306628      0.883249\n",
       "20  0.161577  1.000000  0.502783      0.827411\n",
       "21  0.529788  0.888889  0.338563      0.878173\n",
       "22  0.545742  0.888889  0.242677      0.903553\n",
       "23  0.332292  0.888889  0.166638      0.944162\n",
       "24  0.171889  0.888889  0.249925      0.913706"
      ]
     },
     "execution_count": 10,
     "metadata": {},
     "output_type": "execute_result"
    }
   ],
   "source": [
    "metrics = pd.DataFrame(model.history.history)\n",
    "metrics"
   ]
  },
  {
   "cell_type": "code",
   "execution_count": 11,
   "metadata": {},
   "outputs": [
    {
     "name": "stdout",
     "output_type": "stream",
     "text": [
      "WARNING:tensorflow:From /Users/tsbest/Documents/programming/python/DATA_COMMUNICATIONS_Final_Project/PC2/venv/lib/python3.8/site-packages/tensorflow/python/training/tracking/tracking.py:111: Model.state_updates (from tensorflow.python.keras.engine.training) is deprecated and will be removed in a future version.\n",
      "Instructions for updating:\n",
      "This property should not be used in TensorFlow 2.0, as updates are applied automatically.\n",
      "WARNING:tensorflow:From /Users/tsbest/Documents/programming/python/DATA_COMMUNICATIONS_Final_Project/PC2/venv/lib/python3.8/site-packages/tensorflow/python/training/tracking/tracking.py:111: Layer.updates (from tensorflow.python.keras.engine.base_layer) is deprecated and will be removed in a future version.\n",
      "Instructions for updating:\n",
      "This property should not be used in TensorFlow 2.0, as updates are applied automatically.\n",
      "INFO:tensorflow:Assets written to: model_datacom_final/assets\n"
     ]
    }
   ],
   "source": [
    "model.save('model_datacom_final')"
   ]
  },
  {
   "cell_type": "code",
   "execution_count": 12,
   "metadata": {},
   "outputs": [
    {
     "data": {
      "text/plain": [
       "<matplotlib.image.AxesImage at 0x7f9a10d3ceb0>"
      ]
     },
     "execution_count": 12,
     "metadata": {},
     "output_type": "execute_result"
    },
    {
     "data": {
      "image/png": "[encoded data removed]",
      "text/plain": [
       "<Figure size 432x288 with 1 Axes>"
      ]
     },
     "metadata": {
      "needs_background": "light"
     },
     "output_type": "display_data"
    }
   ],
   "source": [
    "test_path = '../ML/data_set_final/train/1000/1000_1_634983.bmp'\n",
    "test_img = image.load_img(test_path)\n",
    "plt.imshow(test_img)"
   ]
  },
  {
   "cell_type": "code",
   "execution_count": 13,
   "metadata": {},
   "outputs": [
    {
     "name": "stdout",
     "output_type": "stream",
     "text": [
      "[0. 0. 0. 0. 0. 0. 0. 0. 1. 0. 0. 0. 0. 0. 0. 0.]\n"
     ]
    }
   ],
   "source": [
    "array_test_img = image.img_to_array(test_img)\n",
    "array_test_img = np.expand_dims(array_test_img,axis=0)\n",
    "target = np.vstack([array_test_img])\n",
    "val = model.predict(target)\n",
    "print(val[0])"
   ]
  },
  {
   "cell_type": "code",
   "execution_count": 14,
   "metadata": {},
   "outputs": [
    {
     "data": {
      "text/plain": [
       "array([8])"
      ]
     },
     "execution_count": 14,
     "metadata": {},
     "output_type": "execute_result"
    }
   ],
   "source": [
    "np.argmax(model.predict(target), axis=-1)"
   ]
  },
  {
   "cell_type": "code",
   "execution_count": 15,
   "metadata": {},
   "outputs": [
    {
     "name": "stdout",
     "output_type": "stream",
     "text": [
      "66/66 [==============================] - 0s 7ms/step - loss: 0.2499 - accuracy: 0.9137\n"
     ]
    },
    {
     "data": {
      "text/plain": [
       "[0.24992534518241882, 0.913705587387085]"
      ]
     },
     "execution_count": 15,
     "metadata": {},
     "output_type": "execute_result"
    }
   ],
   "source": [
    "model.evaluate(validation_dataset)"
   ]
  },
  {
   "cell_type": "code",
   "execution_count": null,
   "metadata": {},
   "outputs": [],
   "source": []
  }
 ],
 "metadata": {
  "kernelspec": {
   "display_name": "venv",
   "language": "python",
   "name": "venv"
  },
  "language_info": {
   "codemirror_mode": {
    "name": "ipython",
    "version": 3
   },
   "file_extension": ".py",
   "mimetype": "text/x-python",
   "name": "python",
   "nbconvert_exporter": "python",
   "pygments_lexer": "ipython3",
   "version": "3.8.3"
  }
 },
 "nbformat": 4,
 "nbformat_minor": 4
}
